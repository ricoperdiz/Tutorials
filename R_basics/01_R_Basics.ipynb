{
  "cells": [
    {
      "cell_type": "code",
      "source": [
        "library(tidyverse)"
      ],
      "outputs": [
        {
          "output_type": "stream",
          "name": "stderr",
          "text": [
            "-- Attaching packages --------------------------------------- tidyverse 1.2.1 --\n",
            "v ggplot2 3.1.0     v purrr   0.3.0\n",
            "v tibble  2.0.1     v dplyr   0.7.8\n",
            "v tidyr   0.8.2     v stringr 1.3.1\n",
            "v readr   1.3.1     v forcats 0.3.0\n",
            "-- Conflicts ------------------------------------------ tidyverse_conflicts() --\n",
            "x dplyr::filter() masks stats::filter()\n",
            "x dplyr::lag()    masks stats::lag()\n"
          ]
        }
      ],
      "execution_count": 1,
      "metadata": {
        "collapsed": false,
        "outputHidden": false,
        "inputHidden": false
      }
    },
    {
      "cell_type": "code",
      "source": [
        "print(\"this is a test\")\n",
        "\n",
        "dados <- \n",
        "    tibble(\n",
        "    a = 1:5,\n",
        "    b = 5:9\n",
        "    )\n",
        "dados"
      ],
      "outputs": [
        {
          "output_type": "stream",
          "name": "stdout",
          "text": [
            "[1] \"this is a test\"\n"
          ]
        },
        {
          "output_type": "display_data",
          "data": {
            "text/html": [
              "<table>\n",
              "<thead><tr><th scope=col>a</th><th scope=col>b</th></tr></thead>\n",
              "<tbody>\n",
              "\t<tr><td>1</td><td>5</td></tr>\n",
              "\t<tr><td>2</td><td>6</td></tr>\n",
              "\t<tr><td>3</td><td>7</td></tr>\n",
              "\t<tr><td>4</td><td>8</td></tr>\n",
              "\t<tr><td>5</td><td>9</td></tr>\n",
              "</tbody>\n",
              "</table>\n"
            ],
            "text/markdown": [
              "\n",
              "| a | b |\n",
              "|---|---|\n",
              "| 1 | 5 |\n",
              "| 2 | 6 |\n",
              "| 3 | 7 |\n",
              "| 4 | 8 |\n",
              "| 5 | 9 |\n",
              "\n"
            ],
            "text/latex": [
              "\\begin{tabular}{r|ll}\n",
              " a & b\\\\\n",
              "\\hline\n",
              "\t 1 & 5\\\\\n",
              "\t 2 & 6\\\\\n",
              "\t 3 & 7\\\\\n",
              "\t 4 & 8\\\\\n",
              "\t 5 & 9\\\\\n",
              "\\end{tabular}\n"
            ],
            "text/plain": [
              "  a b\n",
              "1 1 5\n",
              "2 2 6\n",
              "3 3 7\n",
              "4 4 8\n",
              "5 5 9"
            ]
          },
          "metadata": {}
        }
      ],
      "execution_count": 6,
      "metadata": {
        "collapsed": false,
        "outputHidden": false,
        "inputHidden": false
      }
    },
    {
      "cell_type": "code",
      "source": [],
      "outputs": [],
      "execution_count": null,
      "metadata": {
        "collapsed": false,
        "outputHidden": false,
        "inputHidden": false
      }
    },
    {
      "cell_type": "code",
      "source": [],
      "outputs": [],
      "execution_count": null,
      "metadata": {
        "collapsed": false,
        "outputHidden": false,
        "inputHidden": false
      }
    },
    {
      "cell_type": "code",
      "source": [],
      "outputs": [],
      "execution_count": null,
      "metadata": {
        "collapsed": false,
        "outputHidden": false,
        "inputHidden": false
      }
    },
    {
      "cell_type": "markdown",
      "source": [],
      "metadata": {}
    },
    {
      "cell_type": "markdown",
      "source": [],
      "metadata": {}
    }
  ],
  "metadata": {
    "kernel_info": {
      "name": "ir"
    },
    "language_info": {
      "name": "R",
      "codemirror_mode": "r",
      "pygments_lexer": "r",
      "mimetype": "text/x-r-source",
      "file_extension": ".r",
      "version": "3.5.2"
    },
    "kernelspec": {
      "name": "ir",
      "language": "R",
      "display_name": "R"
    },
    "nteract": {
      "version": "0.12.3"
    }
  },
  "nbformat": 4,
  "nbformat_minor": 4
}